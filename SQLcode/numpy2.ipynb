{
 "cells": [
  {
   "cell_type": "code",
   "execution_count": 1,
   "id": "1e3616a8-a65e-4694-a2d3-f10dad4d7a25",
   "metadata": {},
   "outputs": [],
   "source": [
    "import numpy as np"
   ]
  },
  {
   "cell_type": "code",
   "execution_count": 2,
   "id": "fe18ab7d-0b40-42b9-b2af-579585a436b4",
   "metadata": {},
   "outputs": [],
   "source": [
    "arr = np.arange(0,11)"
   ]
  },
  {
   "cell_type": "code",
   "execution_count": 3,
   "id": "3b7df19e-21d6-465b-9ead-d4ed0f5f959c",
   "metadata": {},
   "outputs": [
    {
     "data": {
      "text/plain": [
       "array([ 0,  1,  2,  3,  4,  5,  6,  7,  8,  9, 10])"
      ]
     },
     "execution_count": 3,
     "metadata": {},
     "output_type": "execute_result"
    }
   ],
   "source": [
    "arr"
   ]
  },
  {
   "cell_type": "code",
   "execution_count": 4,
   "id": "ad751784-2a0a-42a3-aa7f-aa7c7dbb127a",
   "metadata": {},
   "outputs": [
    {
     "data": {
      "text/plain": [
       "np.int64(8)"
      ]
     },
     "execution_count": 4,
     "metadata": {},
     "output_type": "execute_result"
    }
   ],
   "source": [
    "arr[8]"
   ]
  },
  {
   "cell_type": "code",
   "execution_count": 5,
   "id": "98d55a00-472b-4af7-99a1-057c9679d139",
   "metadata": {},
   "outputs": [
    {
     "data": {
      "text/plain": [
       "array([1, 2, 3, 4])"
      ]
     },
     "execution_count": 5,
     "metadata": {},
     "output_type": "execute_result"
    }
   ],
   "source": [
    "arr[1:5]"
   ]
  },
  {
   "cell_type": "code",
   "execution_count": 6,
   "id": "725030cf-fb3d-4291-9d9b-94d32780df28",
   "metadata": {},
   "outputs": [
    {
     "data": {
      "text/plain": [
       "array([0, 1, 2, 3, 4])"
      ]
     },
     "execution_count": 6,
     "metadata": {},
     "output_type": "execute_result"
    }
   ],
   "source": [
    "arr[0:5]"
   ]
  },
  {
   "cell_type": "code",
   "execution_count": 7,
   "id": "108c9469-7c44-4ea2-a2cd-09403c4bcfc7",
   "metadata": {},
   "outputs": [
    {
     "data": {
      "text/plain": [
       "array([0, 1, 2, 3, 4, 5])"
      ]
     },
     "execution_count": 7,
     "metadata": {},
     "output_type": "execute_result"
    }
   ],
   "source": [
    "arr[:6]"
   ]
  },
  {
   "cell_type": "code",
   "execution_count": 8,
   "id": "36817123-5903-4bc9-ad98-affa129b427a",
   "metadata": {},
   "outputs": [
    {
     "data": {
      "text/plain": [
       "array([ 5,  6,  7,  8,  9, 10])"
      ]
     },
     "execution_count": 8,
     "metadata": {},
     "output_type": "execute_result"
    }
   ],
   "source": [
    "arr[5:]"
   ]
  },
  {
   "cell_type": "code",
   "execution_count": 9,
   "id": "22e98809-f76a-474b-8f08-73ff3d14b979",
   "metadata": {},
   "outputs": [],
   "source": [
    "arr[0:5] = 100"
   ]
  },
  {
   "cell_type": "code",
   "execution_count": 10,
   "id": "16da05e0-309c-48e8-b937-2bc0d31312c2",
   "metadata": {},
   "outputs": [
    {
     "data": {
      "text/plain": [
       "array([100, 100, 100, 100, 100,   5,   6,   7,   8,   9,  10])"
      ]
     },
     "execution_count": 10,
     "metadata": {},
     "output_type": "execute_result"
    }
   ],
   "source": [
    "arr"
   ]
  },
  {
   "cell_type": "code",
   "execution_count": 11,
   "id": "dae1133e-93c5-4bd9-be0e-6cd822bd15ae",
   "metadata": {},
   "outputs": [],
   "source": [
    "arr = np.arange(0,11)"
   ]
  },
  {
   "cell_type": "code",
   "execution_count": 12,
   "id": "d87681ad-9000-4da6-851b-a59b06936c3d",
   "metadata": {},
   "outputs": [
    {
     "data": {
      "text/plain": [
       "array([ 0,  1,  2,  3,  4,  5,  6,  7,  8,  9, 10])"
      ]
     },
     "execution_count": 12,
     "metadata": {},
     "output_type": "execute_result"
    }
   ],
   "source": [
    "arr"
   ]
  },
  {
   "cell_type": "code",
   "execution_count": 13,
   "id": "d9ad485f-364b-4432-8079-c6ec93060d68",
   "metadata": {},
   "outputs": [],
   "source": [
    "slice_of_arr = arr[0:6]"
   ]
  },
  {
   "cell_type": "code",
   "execution_count": 14,
   "id": "b48c7a34-00ce-43f4-8555-1dabcc737fa5",
   "metadata": {},
   "outputs": [
    {
     "data": {
      "text/plain": [
       "array([0, 1, 2, 3, 4, 5])"
      ]
     },
     "execution_count": 14,
     "metadata": {},
     "output_type": "execute_result"
    }
   ],
   "source": [
    "slice_of_arr"
   ]
  },
  {
   "cell_type": "code",
   "execution_count": 15,
   "id": "2fe85461-622d-4d32-beef-ac837c84e5da",
   "metadata": {},
   "outputs": [
    {
     "data": {
      "text/plain": [
       "array([0, 1, 2, 3, 4, 5])"
      ]
     },
     "execution_count": 15,
     "metadata": {},
     "output_type": "execute_result"
    }
   ],
   "source": [
    "slice_of_arr[:]"
   ]
  },
  {
   "cell_type": "code",
   "execution_count": 16,
   "id": "c61bc722-e5b4-4278-9755-cd8dadc525c8",
   "metadata": {},
   "outputs": [],
   "source": [
    "slice_of_arr[:] = 99"
   ]
  },
  {
   "cell_type": "code",
   "execution_count": 17,
   "id": "4d67152b-b586-4f8b-97b1-a9896d1e54aa",
   "metadata": {},
   "outputs": [
    {
     "data": {
      "text/plain": [
       "array([99, 99, 99, 99, 99, 99])"
      ]
     },
     "execution_count": 17,
     "metadata": {},
     "output_type": "execute_result"
    }
   ],
   "source": [
    "slice_of_arr"
   ]
  },
  {
   "cell_type": "code",
   "execution_count": 18,
   "id": "83a0e111-ad17-4a99-93fd-1b36799de6ee",
   "metadata": {},
   "outputs": [],
   "source": [
    "arr_copy = arr.copy()"
   ]
  },
  {
   "cell_type": "code",
   "execution_count": 19,
   "id": "1a41b5f5-7a21-4fcc-ac9b-8978c9e0b102",
   "metadata": {},
   "outputs": [
    {
     "data": {
      "text/plain": [
       "array([99, 99, 99, 99, 99, 99,  6,  7,  8,  9, 10])"
      ]
     },
     "execution_count": 19,
     "metadata": {},
     "output_type": "execute_result"
    }
   ],
   "source": [
    "arr"
   ]
  },
  {
   "cell_type": "code",
   "execution_count": 21,
   "id": "631b5aa0-8d47-4e93-844a-438ae45e42b6",
   "metadata": {},
   "outputs": [],
   "source": [
    "arr_copy[:] = 100"
   ]
  },
  {
   "cell_type": "code",
   "execution_count": 22,
   "id": "18d27b76-6457-4556-8568-2cc071474ba8",
   "metadata": {},
   "outputs": [
    {
     "data": {
      "text/plain": [
       "array([100, 100, 100, 100, 100, 100, 100, 100, 100, 100, 100])"
      ]
     },
     "execution_count": 22,
     "metadata": {},
     "output_type": "execute_result"
    }
   ],
   "source": [
    "arr_copy"
   ]
  },
  {
   "cell_type": "code",
   "execution_count": null,
   "id": "e5fda09e-ad35-40d3-9f65-68351f685cbb",
   "metadata": {},
   "outputs": [],
   "source": []
  }
 ],
 "metadata": {
  "kernelspec": {
   "display_name": "Python 3 (ipykernel)",
   "language": "python",
   "name": "python3"
  },
  "language_info": {
   "codemirror_mode": {
    "name": "ipython",
    "version": 3
   },
   "file_extension": ".py",
   "mimetype": "text/x-python",
   "name": "python",
   "nbconvert_exporter": "python",
   "pygments_lexer": "ipython3",
   "version": "3.13.5"
  }
 },
 "nbformat": 4,
 "nbformat_minor": 5
}
